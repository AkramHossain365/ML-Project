{
 "cells": [
  {
   "cell_type": "code",
   "execution_count": null,
   "metadata": {},
   "outputs": [],
   "source": []
  },
  {
   "cell_type": "code",
   "execution_count": 22,
   "metadata": {},
   "outputs": [
    {
     "name": "stdout",
     "output_type": "stream",
     "text": [
      "This is MD. AKRAM HOSSAIN.\n",
      "B.Sc in CSE, DUET.\n",
      "ML project One.\n"
     ]
    }
   ],
   "source": [
    "print(\"This is MD. AKRAM HOSSAIN.\")\n",
    "print(\"B.Sc in CSE, DUET.\")\n",
    "print(\"ML project One.\")"
   ]
  },
  {
   "cell_type": "code",
   "execution_count": 24,
   "metadata": {},
   "outputs": [
    {
     "name": "stdout",
     "output_type": "stream",
     "text": [
      "['2024-11-01', 'EEE', '018', 'Akram']\n",
      "['2024-11-01', 'EEE', '022', 'Maruf']\n",
      "['2024-11-01', 'EEE', '024', 'Motiur Rahman']\n",
      "['2024-11-01', 'EEE', '024', 'Motiur Rahman']\n",
      "['2024-11-01', 'English', '018', 'Akram']\n",
      "['2024-11-01', 'English', '043', 'Abu Noman Rakib']\n",
      "['2024-11-01', 'Math', '009', 'Alamin']\n"
     ]
    }
   ],
   "source": [
    "# developed by Md. Akram Hossain, (CSE- 22 Series, DUET)\n",
    "# akram244hossain@gmail.com\n",
    "\n",
    "\n",
    "from datetime import datetime\n",
    "import csv\n",
    "\n",
    "\n",
    "def csv_input(sub, roll, name):\n",
    "    dt = datetime.now().date()\n",
    "    Student_Data = [dt, sub, roll, name]\n",
    "    with open('Student_Data.csv', 'a', newline='') as f:\n",
    "        writer = csv.writer(f)\n",
    "        writer.writerow(Student_Data)\n",
    "\n",
    "def csv_output():\n",
    "    with open('Student_Data.csv', 'r') as f:\n",
    "        reader = csv.reader(f)\n",
    "        for row in reader:\n",
    "            print(row)\n",
    "\n",
    "while(1):\n",
    "    sub = input(\"Sub: \")\n",
    "    roll = input(\"Roll: \")\n",
    "    name = input(\"Name: \")\n",
    "    csv_input(sub, roll, name)\n",
    "    y = input(\"Write 'stop' to exit or press y to continue: \")\n",
    "    if(y == 'stop'):\n",
    "        break;\n",
    "\n",
    "csv_output()\n",
    "\n"
   ]
  }
 ],
 "metadata": {
  "kernelspec": {
   "display_name": "Python 3",
   "language": "python",
   "name": "python3"
  },
  "language_info": {
   "codemirror_mode": {
    "name": "ipython",
    "version": 3
   },
   "file_extension": ".py",
   "mimetype": "text/x-python",
   "name": "python",
   "nbconvert_exporter": "python",
   "pygments_lexer": "ipython3",
   "version": "3.13.0"
  }
 },
 "nbformat": 4,
 "nbformat_minor": 2
}
